{
  "nbformat": 4,
  "nbformat_minor": 0,
  "metadata": {
    "colab": {
      "name": "youtube  video download",
      "provenance": [],
      "collapsed_sections": [],
      "authorship_tag": "ABX9TyMdlU1ZoHt26lwgViBiyKqe",
      "include_colab_link": true
    },
    "kernelspec": {
      "name": "python3",
      "display_name": "Python 3"
    }
  },
  "cells": [
    {
      "cell_type": "markdown",
      "metadata": {
        "id": "view-in-github",
        "colab_type": "text"
      },
      "source": [
        "<a href=\"https://colab.research.google.com/github/Muthu57/hello_world/blob/main/youtube_video_download.ipynb\" target=\"_parent\"><img src=\"https://colab.research.google.com/assets/colab-badge.svg\" alt=\"Open In Colab\"/></a>"
      ]
    },
    {
      "cell_type": "code",
      "metadata": {
        "colab": {
          "base_uri": "https://localhost:8080/"
        },
        "id": "GoajFduuN6SY",
        "outputId": "38f4e60e-5d56-42c8-80a1-e89aceb9736d"
      },
      "source": [
        "!pip install pytube\r\n"
      ],
      "execution_count": 2,
      "outputs": [
        {
          "output_type": "stream",
          "text": [
            "Collecting pytube\n",
            "\u001b[?25l  Downloading https://files.pythonhosted.org/packages/a4/a7/a82cf1e3f283953d18cd72862cde6b38ed3568aca347854ea912e5c6f082/pytube-10.5.1-py3-none-any.whl (41kB)\n",
            "\r\u001b[K     |███████▉                        | 10kB 16.3MB/s eta 0:00:01\r\u001b[K     |███████████████▊                | 20kB 12.3MB/s eta 0:00:01\r\u001b[K     |███████████████████████▌        | 30kB 9.0MB/s eta 0:00:01\r\u001b[K     |███████████████████████████████▍| 40kB 7.7MB/s eta 0:00:01\r\u001b[K     |████████████████████████████████| 51kB 2.6MB/s \n",
            "\u001b[?25hRequirement already satisfied: typing-extensions in /usr/local/lib/python3.7/dist-packages (from pytube) (3.7.4.3)\n",
            "Installing collected packages: pytube\n",
            "Successfully installed pytube-10.5.1\n"
          ],
          "name": "stdout"
        }
      ]
    },
    {
      "cell_type": "code",
      "metadata": {
        "colab": {
          "base_uri": "https://localhost:8080/"
        },
        "id": "g2HpcF4oOVFN",
        "outputId": "2fb9544b-30c7-45ef-c5a8-6924a3a71ac8"
      },
      "source": [
        "!pip install git+https://github.com/pytube/pytube"
      ],
      "execution_count": 3,
      "outputs": [
        {
          "output_type": "stream",
          "text": [
            "Collecting git+https://github.com/pytube/pytube\n",
            "  Cloning https://github.com/pytube/pytube to /tmp/pip-req-build-xilf48bg\n",
            "  Running command git clone -q https://github.com/pytube/pytube /tmp/pip-req-build-xilf48bg\n",
            "Requirement already satisfied (use --upgrade to upgrade): pytube==10.5.1 from git+https://github.com/pytube/pytube in /usr/local/lib/python3.7/dist-packages\n",
            "Requirement already satisfied: typing_extensions in /usr/local/lib/python3.7/dist-packages (from pytube==10.5.1) (3.7.4.3)\n",
            "Building wheels for collected packages: pytube\n",
            "  Building wheel for pytube (setup.py) ... \u001b[?25l\u001b[?25hdone\n",
            "  Created wheel for pytube: filename=pytube-10.5.1-cp37-none-any.whl size=41743 sha256=8b49ec941acd58c7545e716e4d29b05d0252b320946093dab710ffe3aa44a6b3\n",
            "  Stored in directory: /tmp/pip-ephem-wheel-cache-lz55usxx/wheels/34/e9/71/12f7c6e92a0a5268282057371c9caa69c07dafc0ccb917099d\n",
            "Successfully built pytube\n"
          ],
          "name": "stdout"
        }
      ]
    },
    {
      "cell_type": "code",
      "metadata": {
        "id": "NhKvqWJVOp_n"
      },
      "source": [
        "from pytube import YouTube"
      ],
      "execution_count": 13,
      "outputs": []
    },
    {
      "cell_type": "code",
      "metadata": {
        "id": "5JZnmuxkPH_v"
      },
      "source": [
        "videourl = \"https://www.youtube.com/watch?v=tqpvuln10yE\""
      ],
      "execution_count": 6,
      "outputs": []
    },
    {
      "cell_type": "code",
      "metadata": {
        "id": "gXTl39pDPUrr"
      },
      "source": [
        "yt = YouTube(videourl)"
      ],
      "execution_count": 7,
      "outputs": []
    },
    {
      "cell_type": "code",
      "metadata": {
        "colab": {
          "base_uri": "https://localhost:8080/",
          "height": 35
        },
        "id": "NvrFJRMKPiYY",
        "outputId": "5337e203-9d5c-484c-eb98-728c4121535b"
      },
      "source": [
        "yt.streams.first().download()"
      ],
      "execution_count": 16,
      "outputs": [
        {
          "output_type": "execute_result",
          "data": {
            "application/vnd.google.colaboratory.intrinsic+json": {
              "type": "string"
            },
            "text/plain": [
              "'/content/Cook with Comali Season 2  6th & 7th March 2021 - Promo 1 Promo 2  & Promo 3.mp4'"
            ]
          },
          "metadata": {
            "tags": []
          },
          "execution_count": 16
        }
      ]
    }
  ]
}